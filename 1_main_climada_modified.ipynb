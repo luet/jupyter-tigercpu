{
 "cells": [
  {
   "cell_type": "markdown",
   "metadata": {},
   "source": [
    "# CLIMADA features"
   ]
  },
  {
   "cell_type": "markdown",
   "metadata": {},
   "source": [
    "The functionality of climada is gathered in the following classes:\n",
    "\n",
    "- **Entity**: socio-economic models:\n",
    "\n",
    "   - Exposures: exposed values\n",
    "      - BlackMarble: regional economic model from nightlight intensities and economic indicators (GDP, income group)\n",
    "      - LitPop: regional economic model using nightlight and population maps together with several economic indicators\n",
    "   - ImpactFuncSet: collection of impact functions per hazard\n",
    "      - ImpactFunc: one adjustable impact function\n",
    "      - IFTropCyclone: definition of impact functions for tropical cyclones\n",
    "   - DiscRates: discount rates per year\n",
    "   - MeasureSet: collection of measures for adaptation\n",
    "      - Measure: one configurable measure\n",
    "\n",
    "- **Hazard**: meteorological models:\n",
    "\n",
    "   - TropCyclone: tropical cyclone events\n",
    "\n",
    "- **Impact**: impacts of the Hazard and Entity interaction.\n",
    "\n",
    "- **CostBenefit**: adaptation options appraisal.\n",
    "- **Add-ons**: OpenStreetMap and Google Earth Engine routines."
   ]
  },
  {
   "cell_type": "markdown",
   "metadata": {},
   "source": [
    "# Risk assessment"
   ]
  },
  {
   "cell_type": "markdown",
   "metadata": {},
   "source": [
    "## Entity\n",
    "\n",
    "The entity class is just a container for the exposures, impact functions, discount rates and measures. It can be directly filled from an excel file following climada's template or from MATLAB files of the climada MATLAB version. The excel template can be found in `climada_python/data/system/entity_template.xlsx`."
   ]
  },
  {
   "cell_type": "code",
   "execution_count": null,
   "metadata": {
    "scrolled": true
   },
   "outputs": [],
   "source": [
    "from climada.entity import Entity\n",
    "from climada.util.constants import ENT_DEMO_TODAY\n",
    "\n",
    "# absolute path of file following template. \n",
    "ent_file = ENT_DEMO_TODAY\n",
    "ent_fl = Entity()\n",
    "ent_fl.read_excel(ent_file)"
   ]
  },
  {
   "cell_type": "markdown",
   "metadata": {},
   "source": [
    "Every class has a `check()` method. This verifies that the necessary data to compute the impact is correctly provided and logs the optional variables that are not present. Use it always after filling an instance."
   ]
  },
  {
   "cell_type": "code",
   "execution_count": null,
   "metadata": {},
   "outputs": [],
   "source": [
    "ent_fl.check() # checks exposures, impact functions, discount rates and measures"
   ]
  },
  {
   "cell_type": "markdown",
   "metadata": {},
   "source": [
    "### Exposures\n",
    "\n",
    "The `Entity`'s `exposures` attribute contains geolocalized values of anything exposed to the hazard, let it be monetary value of assets or number of human lifes, for example. It is of type `Exposures`. \n",
    "\n",
    "See [Exposures](climada_entity_Exposures.ipynb) tutorial to learn how to fill and use exposures.\n",
    "\n",
    "See [LitPop](climada_entity_LitPop.ipynb) to model economic exposures using night-time light and population densitites. See [BlackMarble](climada_entity_BlackMarble.ipynb) to model economic exposures based only on night-time light intensities. To combine your exposure with OpenStreetMap's data see [OSM](climada_entity_openstreetmap.ipynb)."
   ]
  },
  {
   "cell_type": "code",
   "execution_count": null,
   "metadata": {},
   "outputs": [],
   "source": [
    "# %matplotlib inline\n",
    "# ent_fl.exposures.plot_basemap(buffer=50000.0); # exposures in Florida"
   ]
  },
  {
   "cell_type": "markdown",
   "metadata": {},
   "source": [
    "### Impact Functions\n",
    "\n",
    "The `impact_funcs` attribute is of type `ImpactFuncSet`. As such, it contains impact functions for different hazards.\n",
    "\n",
    "See [Impact Functions](climada_entity_ImpactFuncSet.ipynb) tutorial to learn how to handle this class."
   ]
  },
  {
   "cell_type": "code",
   "execution_count": null,
   "metadata": {},
   "outputs": [],
   "source": [
    "ent_fl.impact_funcs.plot('TC'); # tropical cyclone impact functions"
   ]
  },
  {
   "cell_type": "markdown",
   "metadata": {},
   "source": [
    "### Adaptation Measures\n",
    "\n",
    "The `measures` attribute is of type `MeasureSet`. This class is a container of `Measure` instances, similarly to `ImpactFuncSet` containing several `ImpactFunc`. Adaptation measures aim to decrease hazards impacts and are subjected to a cost.\n",
    "\n",
    "See [Adaptation Measures](climada_entity_MeasureSet.ipynb) to learn to handle measures."
   ]
  },
  {
   "cell_type": "code",
   "execution_count": null,
   "metadata": {},
   "outputs": [],
   "source": [
    "# print measures names\n",
    "print(ent_fl.measures.get_names())"
   ]
  },
  {
   "cell_type": "markdown",
   "metadata": {},
   "source": [
    "### Discount Rates\n",
    "\n",
    "The `disc_rates` attribute is of type `DiscRates`. This class contains the discount rates for the following years and computes the net present value for given values.\n",
    "\n",
    "See [Discount Rates](climada_entity_DiscRates.ipynb)."
   ]
  },
  {
   "cell_type": "code",
   "execution_count": null,
   "metadata": {},
   "outputs": [],
   "source": [
    "ent_fl.disc_rates.plot()"
   ]
  },
  {
   "cell_type": "markdown",
   "metadata": {},
   "source": [
    "## Hazard\n",
    "\n",
    "Hazards are characterized by their frequency of occurrence and the geographical distribution of their intensity. A `Hazard` instance collects events of the same hazard type (e.g. tropical cyclone, flood, drought, ...) over the same centroids. They might be historical events or synthetic.\n",
    "\n",
    "See [Hazard](climada_hazard_Hazard.ipynb) to learn how to handle hazards.\n",
    "\n",
    "See [TropCyclone](climada_hazard_TropCyclone.ipynb) to learn to model tropical cyclones. [TCSurge](climada_hazard_TCSurge.ipynb) implements an approximation on tropical cyclones surges.\n",
    "[StromEurope](climada_hazard_StormEurope.ipynb) creates a hazard event set for extratropical cylones  or winter windstorms in Europe.\n",
    "\n",
    "To use satellite images in your models follow the tutorial [Google Earth Engine](climada_util_earth_engine.ipynb)."
   ]
  },
  {
   "cell_type": "markdown",
   "metadata": {},
   "source": [
    "A complete set of tropical cyclones events in Florida can be found in file `HAZ_DEMO_MAT`. This contains 1445 historical events from year 1851 to 2011 and 9 synthetic events for each historical one."
   ]
  },
  {
   "cell_type": "code",
   "execution_count": null,
   "metadata": {},
   "outputs": [],
   "source": [
    "from climada.hazard import Hazard\n",
    "from climada.util import HAZ_DEMO_MAT\n",
    "tc_fl = Hazard('TC')\n",
    "tc_fl.read_mat(HAZ_DEMO_MAT, 'Historic and synthetic tropical cyclones in Florida from 1851 to 2011.')\n",
    "tc_fl.event_name = [\"\"] * tc_fl.event_id.size # storm names are missing from the demo data set\n",
    "tc_fl.event_name[11100] = \"ANDREW\"\n",
    "tc_fl.event_name[11690] = \"ANDREW\"\n",
    "tc_fl.plot_intensity('ANDREW') # plot intensity of hurricanes Andrew\n",
    "print('Two hurricanes called Andrew happened in ', tc_fl.get_event_date('ANDREW'))"
   ]
  },
  {
   "cell_type": "markdown",
   "metadata": {},
   "source": [
    "## Impact"
   ]
  },
  {
   "cell_type": "markdown",
   "metadata": {},
   "source": [
    "The impact of hazard events over an entity can be computed easily from the previously explained classes. By computing the impact for each event (historical and synthetic), the `Impact` class provides different risk measures, as the expected annual impact per exposure, the probable maximum impact for different return periods and the total average annual impact.\n",
    "\n",
    "Let us compute the impact of tropical cyclones over the exposures selected in Florida."
   ]
  },
  {
   "cell_type": "markdown",
   "metadata": {},
   "source": [
    "The configurable parameter `MAX_SIZE` controls the maximum matrix size contained in a chunk. You can decrease its value if you are having memory issues when using the `Impact`'s `calc` method. A high value will make the computation fast, but increase the memory use. The configuration file is located at `climada_python/climada/conf/defaults.conf`."
   ]
  },
  {
   "cell_type": "code",
   "execution_count": null,
   "metadata": {},
   "outputs": [],
   "source": [
    "from climada.engine import Impact\n",
    "\n",
    "imp_fl = Impact()\n",
    "imp_fl.calc(ent_fl.exposures, ent_fl.impact_funcs, tc_fl)\n",
    "\n",
    "freq_curve_fl = imp_fl.calc_freq_curve() # impact exceedence frequency curve\n",
    "freq_curve_fl.plot();\n",
    "\n",
    "print('Expected average annual impact: {:.3e} USD'.format(imp_fl.aai_agg))\n",
    "\n",
    "# imp_fl.plot_basemap_eai_exposure(buffer=50000.0); # average annual impact at each exposure"
   ]
  },
  {
   "cell_type": "markdown",
   "metadata": {},
   "source": [
    "We can save our variables in pickle format using the `save` function and load them with `load`. This will save your results in the folder specified in the configuration file. The default folder is a `results` folder which is created in the current path (see default configuration file `climada/conf/climada.conf`). However, we recommend to use CLIMADA's writers in `hdf5` or `csv` whenever possible."
   ]
  },
  {
   "cell_type": "code",
   "execution_count": null,
   "metadata": {},
   "outputs": [],
   "source": [
    "from climada import CONFIG\n",
    "from climada.util import save, load\n",
    "save('impact_florida.p', imp_fl)\n",
    "\n",
    "# Later, the data can be read as follows:\n",
    "file_path = CONFIG.local_data.save_dir.dir() / 'impact_florida.p'\n",
    "data = load(file_path)\n",
    "print('Data read:', type(data))"
   ]
  },
  {
   "cell_type": "markdown",
   "metadata": {},
   "source": [
    "`Impact` also has `write_csv()` and `write_excel()` methods to save the impact variables, and `write_sparse_csr()` to save the impact matrix (impact per event and exposure). Use the class doc to get more information about these functions."
   ]
  },
  {
   "cell_type": "markdown",
   "metadata": {},
   "source": [
    "See [Impact](climada_engine_Impact.ipynb) to learn more about impact calculations."
   ]
  },
  {
   "cell_type": "markdown",
   "metadata": {},
   "source": [
    "# Adaptation options appraisal"
   ]
  },
  {
   "cell_type": "markdown",
   "metadata": {},
   "source": [
    "The adaptation measures defined before can be valued by estimating its cost-benefit ratio. This is done in the class `CostBenefit`.\n",
    "\n",
    "Let us suppose that the socioeconomic and climatoligical conditions remain the same in 2040. We then compute the cost and benefit of every adaptation measure as follows:"
   ]
  },
  {
   "cell_type": "code",
   "execution_count": null,
   "metadata": {},
   "outputs": [],
   "source": [
    "from climada.engine import CostBenefit\n",
    "\n",
    "cost_ben = CostBenefit()\n",
    "cost_ben.calc(tc_fl, ent_fl, future_year=2040) # prints costs and benefits\n",
    "cost_ben.plot_cost_benefit() # plot cost benefit ratio and averted damage of every exposure\n",
    "cost_ben.plot_event_view() # plot averted damage of each measure for every return period"
   ]
  },
  {
   "cell_type": "markdown",
   "metadata": {},
   "source": [
    "Let us now assume that the exposure evolves according to `ENT_DEMO_FUTURE` in 2040 and that the intensity of the hazards increase uniformly due to climate change."
   ]
  },
  {
   "cell_type": "code",
   "execution_count": null,
   "metadata": {},
   "outputs": [],
   "source": [
    "import copy\n",
    "from climada.util.constants import ENT_DEMO_FUTURE\n",
    "\n",
    "# future conditions\n",
    "ent_future = Entity()\n",
    "ent_future.read_excel(ENT_DEMO_FUTURE)\n",
    "ent_future.check()\n",
    "ent_future.exposures.ref_year = 2040\n",
    "\n",
    "haz_future = copy.deepcopy(tc_fl)\n",
    "haz_future.intensity.data += 15  # increase uniformly the intensity\n",
    "\n",
    "cost_ben = CostBenefit()\n",
    "cost_ben.calc(tc_fl, ent_fl, haz_future, ent_future, save_imp=True)\n",
    "cost_ben.plot_cost_benefit() # plot cost benefit ratio and averted damage of every exposure\n",
    "cost_ben.plot_event_view() # plot averted damage of each measure for every return period\n",
    "ax = cost_ben.plot_waterfall(tc_fl, ent_fl, haz_future, ent_future) # plot expected annual impact\n",
    "ax.set_title('Expected Annual Impact in 2015 and 2040')\n",
    "ax = cost_ben.plot_waterfall_accumulated(tc_fl, ent_fl, ent_future) # plot accumulated impact from present to future\n",
    "cost_ben.plot_arrow_averted(ax, accumulate=True, combine=True, disc_rates=ent_fl.disc_rates) # plot total averted damages"
   ]
  },
  {
   "cell_type": "markdown",
   "metadata": {},
   "source": [
    "### EXERCISE\n",
    "\n",
    "Check what happens when different parameters are changed, such as the `imp_time_depen` and `risk_func` in CostBenefit.calc() (and plot_waterfall(), plot_waterfall_accumulated())"
   ]
  },
  {
   "cell_type": "markdown",
   "metadata": {},
   "source": [
    "# Your case"
   ]
  },
  {
   "cell_type": "markdown",
   "metadata": {},
   "source": [
    "### EXERCISE:\n",
    "\n",
    "1. Build an entity. It might be one from your previous runs in MATLAB. Make sure i'is saved in version > v7.3 if it's a MATLAB file. If it's not, you'll get an error message. Then, you can save it again in MATLAB like that:\n",
    "`save('file_name.mat','variable_name', '-v7.3')`\n",
    "\n",
    "2. Build a hazard. It might also come from a previous run in MATLAB. This file might already contain the centroids. If not, define the centroids as well and use them in your calculations.\n",
    "\n",
    "3. Compute the impact.\n",
    "\n",
    "4. Visualization. Plot:\n",
    "   * the damage functions for the hazard\n",
    "   * the entity values map\n",
    "   * the strongest event intensity\n",
    "   * the maximum hazard intensity of all the events in Zürich (47.38, 8.54)\n",
    "   * the impact exceedence frequency curve\n"
   ]
  },
  {
   "cell_type": "code",
   "execution_count": null,
   "metadata": {},
   "outputs": [],
   "source": [
    "# Put your code here\n",
    "\n",
    "\n",
    "\n",
    "\n"
   ]
  },
  {
   "cell_type": "code",
   "execution_count": null,
   "metadata": {},
   "outputs": [],
   "source": [
    "# SOLUTION: example: winter storms in europe\n",
    "from climada.util.constants import DEMO_DIR\n",
    "import pandas as pd\n",
    "from climada.hazard import Hazard\n",
    "from climada.entity import Exposures, ImpactFuncSet\n",
    "from climada.engine import Impact\n",
    "\n",
    "# Put any absoulte path for your files or set up the configuration variable \"repository\"\n",
    "FILE_HAZARD = DEMO_DIR.joinpath('WS_ERA40_sample.mat')\n",
    "FILE_ENTITY = DEMO_DIR.joinpath('WS_Europe.xls')\n",
    "\n",
    "# Define hazard type\n",
    "HAZ_TYPE = 'WS'\n",
    "\n",
    "# 1. Entity: we only need impact functions and exposures to compute the impact\n",
    "# Exposures\n",
    "exp_ws_eu = pd.read_excel(FILE_ENTITY)\n",
    "exp_ws_eu = Exposures(exp_ws_eu)\n",
    "exp_ws_eu.check()\n",
    "\n",
    "# Impact functions\n",
    "impf_ws_eu = ImpactFuncSet()\n",
    "impf_ws_eu.read_excel(FILE_ENTITY, 'Impact functions for winter storms in EU.')\n",
    "\n",
    "# 2. Hazard\n",
    "haz_ws_eu = Hazard(HAZ_TYPE)\n",
    "haz_ws_eu.read_mat(FILE_HAZARD, 'WS EU ERA 40')\n",
    "\n",
    "# 3. Impact\n",
    "imp_ws_eu = Impact()\n",
    "imp_ws_eu.calc(exp_ws_eu, impf_ws_eu, haz_ws_eu)\n",
    "\n",
    "# 4.\n",
    "# the damage functions for the hazard\n",
    "impf_ws_eu.plot()\n",
    "\n",
    "# the exposures values map\n",
    "exp_ws_eu.plot_hexbin(pop_name=False)\n",
    "\n",
    "# the strongest event\n",
    "haz_ws_eu.plot_intensity(-1) # might be better to use an other earth projection?\n",
    "\n",
    "# the impact exceedence frequency curve\n",
    "imp_exc_curve = imp_ws_eu.calc_freq_curve()\n",
    "imp_exc_curve.plot()"
   ]
  }
 ],
 "metadata": {
  "kernelspec": {
   "display_name": "Python 3",
   "language": "python",
   "name": "python3"
  },
  "language_info": {
   "codemirror_mode": {
    "name": "ipython",
    "version": 3
   },
   "file_extension": ".py",
   "mimetype": "text/x-python",
   "name": "python",
   "nbconvert_exporter": "python",
   "pygments_lexer": "ipython3",
   "version": "3.8.8"
  }
 },
 "nbformat": 4,
 "nbformat_minor": 4
}
